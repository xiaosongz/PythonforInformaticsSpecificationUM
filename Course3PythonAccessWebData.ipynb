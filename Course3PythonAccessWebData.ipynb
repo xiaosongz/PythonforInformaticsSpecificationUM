{
 "cells": [
  {
   "cell_type": "markdown",
   "metadata": {},
   "source": [
    "**This is the note for Coursera Python for everyone course note**"
   ]
  },
  {
   "cell_type": "markdown",
   "metadata": {},
   "source": [
    "*this actully is modified to python 2*"
   ]
  },
  {
   "cell_type": "code",
   "execution_count": 1,
   "metadata": {
    "collapsed": false
   },
   "outputs": [
    {
     "name": "stdout",
     "output_type": "stream",
     "text": [
      "Please input file name!\n",
      "445822\n"
     ]
    }
   ],
   "source": [
    "\n",
    "import re\n",
    "import sys\n",
    "\n",
    "total = 0\n",
    "name = input(\"Please input file name!\")\n",
    "if len(name) == 0:\n",
    "\tname = \"regex_sum_42.txt\"\n",
    "handle = open(name)\n",
    "\n",
    "for line in handle:\n",
    "\tline = line.strip()\n",
    "\tstuff = re.findall(\"[0-9]+\", line)\n",
    "\tif len(stuff) != 0:\n",
    "\t\tfor item in stuff:\n",
    "\t\t\tnum = int(item)\n",
    "\t\t\ttotal = total +num\n",
    "\telse: continue\n",
    "\n",
    "\n",
    "print(total)\n"
   ]
  }
 ],
 "metadata": {
  "kernelspec": {
   "display_name": "Python 3",
   "language": "python",
   "name": "python3"
  },
  "language_info": {
   "codemirror_mode": {
    "name": "ipython",
    "version": 3
   },
   "file_extension": ".py",
   "mimetype": "text/x-python",
   "name": "python",
   "nbconvert_exporter": "python",
   "pygments_lexer": "ipython3",
   "version": "3.5.2"
  }
 },
 "nbformat": 4,
 "nbformat_minor": 2
}
